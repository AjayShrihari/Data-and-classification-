{
 "cells": [
  {
   "cell_type": "markdown",
   "metadata": {
    "editable": false
   },
   "source": [
    "# Assignment 1\n",
    "This jupyter notebook is meant to be used in conjunction with the full questions in the assignment pdf.\n",
    "\n",
    "## Instructions\n",
    "- Write your code and analyses in the indicated cells.\n",
    "- Ensure that this notebook runs without errors when the cells are run in sequence.\n",
    "- Do not attempt to change the contents of the other cells.\n",
    "\n",
    "## Submission\n",
    "- Ensure that this notebook runs without errors when the cells are run in sequence.\n",
    "- Rename the notebook to `<roll_number>.ipynb` and submit ONLY the notebook file on moodle."
   ]
  },
  {
   "cell_type": "markdown",
   "metadata": {
    "editable": false
   },
   "source": [
    "### Environment setup\n",
    "\n",
    "The following code reads the train and test data (provided along with this template) and outputs the data and labels as numpy arrays. Use these variables in your code.\n",
    "\n",
    "---\n",
    "#### Note on conventions\n",
    "In mathematical notation, the convention is tha data matrices are column-indexed, which means that a input data $x$ has shape $[d, n]$, where $d$ is the number of dimensions and $n$ is the number of data points, respectively.\n",
    "\n",
    "Programming languages have a slightly different convention. Data matrices are of shape $[n, d]$. This has the benefit of being able to access the ith data point as a simple `data[i]`.\n",
    "\n",
    "What this means is that you need to be careful about your handling of matrix dimensions. For example, while the covariance matrix (of shape $[d,d]$) for input data $x$ is calculated as $(x-u)(x-u)^T$, while programming you would do $(x-u)^T(x-u)$ to get the correct output shapes."
   ]
  },
  {
   "cell_type": "code",
   "execution_count": 1,
   "metadata": {
    "editable": false,
    "scrolled": true
   },
   "outputs": [
    {
     "name": "stdout",
     "output_type": "stream",
     "text": [
      "(6000, 784) (1000, 784)\n",
      "(6000,) (1000,)\n"
     ]
    }
   ],
   "source": [
    "from __future__ import print_function\n",
    "\n",
    "import numpy as np\n",
    "import matplotlib.pyplot as plt\n",
    "\n",
    "def read_data(filename):\n",
    "    with open(filename, 'r') as f:\n",
    "        lines = f.readlines()\n",
    "    \n",
    "    num_points = len(lines)\n",
    "    dim_points = 28 * 28\n",
    "    data = np.empty((num_points, dim_points))\n",
    "    labels = np.empty(num_points)\n",
    "    \n",
    "    for ind, line in enumerate(lines):\n",
    "        num = line.split(',')\n",
    "        labels[ind] = int(num[0])\n",
    "        data[ind] = [ int(x) for x in num[1:] ]\n",
    "        \n",
    "    return (data, labels)\n",
    "\n",
    "train_data, train_labels = read_data(\"sample_train.csv\")\n",
    "test_data, test_labels = read_data(\"sample_test.csv\")\n",
    "print(train_data.shape, test_data.shape)\n",
    "print(train_labels.shape, test_labels.shape)"
   ]
  },
  {
   "cell_type": "markdown",
   "metadata": {
    "editable": false
   },
   "source": [
    "# Questions\n",
    "---\n",
    "## 1.3.1 Representation\n",
    "The next code cells, when run, should plot the eigen value spectrum of the covariance matrices corresponding to the mentioned samples. Normalize the eigen value spectrum and only show the first 100 values."
   ]
  },
  {
   "cell_type": "code",
   "execution_count": 160,
   "metadata": {},
   "outputs": [
    {
     "name": "stdout",
     "output_type": "stream",
     "text": [
      "(784, 784)\n",
      "Rank:\n",
      "480\n"
     ]
    },
    {
     "data": {
      "image/png": "[encoded data removed]",
      "text/plain": [
       "<Figure size 432x288 with 1 Axes>"
      ]
     },
     "metadata": {
      "needs_background": "light"
     },
     "output_type": "display_data"
    }
   ],
   "source": [
    "# Samples corresponding to the last digit of your roll number (plot a)\n",
    "from numpy import linalg \n",
    "data = []\n",
    "for i in range(len(train_labels)):\n",
    "    if train_labels[i] ==7.0:\n",
    "        data.append(train_data[i])\n",
    "dat = np.array(data)\n",
    "print (np.shape(np.cov(np.array(data).T)))\n",
    "eig, vector = linalg.eig(np.cov(np.array(data).T))\n",
    "#eig.shape\n",
    "plt.bar(np.arange(100),eig[:100])\n",
    "print (\"Rank:\")\n",
    "print(linalg.matrix_rank(np.diag(eig)))\n",
    "        "
   ]
  },
  {
   "cell_type": "code",
   "execution_count": 161,
   "metadata": {},
   "outputs": [
    {
     "name": "stdout",
     "output_type": "stream",
     "text": [
      "(784, 784)\n",
      "Rank:\n",
      "520\n"
     ]
    },
    {
     "data": {
      "image/png": "[encoded data removed]",
      "text/plain": [
       "<Figure size 432x288 with 1 Axes>"
      ]
     },
     "metadata": {
      "needs_background": "light"
     },
     "output_type": "display_data"
    }
   ],
   "source": [
    "# Samples corresponding to the last digit of (your roll number + 1) % 10 (plot b)\n",
    " \n",
    "data = []\n",
    "for i in range(len(train_labels)):\n",
    "    if train_labels[i] ==2.0:\n",
    "        data.append(train_data[i])\n",
    "dat = np.array(data)\n",
    "print (np.shape(np.cov(np.array(data).T)))\n",
    "eig, vector = linalg.eig(np.cov(np.array(data).T))\n",
    "eig.shape\n",
    "plt.bar(np.arange(100),eig[:100])\n",
    "print(\"Rank:\")\n",
    "print(linalg.matrix_rank(np.diag(eig)))"
   ]
  },
  {
   "cell_type": "code",
   "execution_count": 163,
   "metadata": {},
   "outputs": [
    {
     "name": "stdout",
     "output_type": "stream",
     "text": [
      "(784, 784)\n",
      "Rank:\n",
      "658\n"
     ]
    },
    {
     "data": {
      "image/png": "[encoded data removed]",
      "text/plain": [
       "<Figure size 432x288 with 1 Axes>"
      ]
     },
     "metadata": {
      "needs_background": "light"
     },
     "output_type": "display_data"
    }
   ],
   "source": [
    "# All training data (plot c)\n",
    "\n",
    "dat = np.array(train_data)\n",
    "print (np.shape(np.cov(np.array(train_data).T)))\n",
    "eig, vector = linalg.eig(np.cov(np.array(train_data).T))\n",
    "eig.shape\n",
    "plt.bar(np.arange(100),eig[:100])\n",
    "print(\"Rank:\")\n",
    "print(linalg.matrix_rank(np.diag(eig)))\n",
    "#plt.bar(np.arange(len(eig)),eigVal)\n",
    "\n"
   ]
  },
  {
   "cell_type": "code",
   "execution_count": 164,
   "metadata": {},
   "outputs": [
    {
     "name": "stdout",
     "output_type": "stream",
     "text": [
      "(784, 784)\n",
      "Rank:\n",
      "621\n"
     ]
    },
    {
     "data": {
      "image/png": "[encoded data removed]",
      "text/plain": [
       "<Figure size 432x288 with 1 Axes>"
      ]
     },
     "metadata": {
      "needs_background": "light"
     },
     "output_type": "display_data"
    }
   ],
   "source": [
    "# Randomly selected 50% of the training data (plot d)\n",
    "\n",
    "\n",
    "read50 = train_data\n",
    "#random.sample(read_50, 392)\n",
    "idx = np.random.choice(6000,3000)\n",
    "m,n = read50.shape\n",
    "read50 = read50[idx]\n",
    "dat = np.array(read50)\n",
    "print (np.shape(np.cov(np.array(read50).T)))\n",
    "eig, vector = linalg.eig(np.cov(np.array(read50).T))\n",
    "eig.shape\n",
    "plt.bar(np.arange(100),eig[:100])\n",
    "#plt.bar(np.arange(len(eig)),eigVal)\n",
    "print (\"Rank:\")\n",
    "print(linalg.matrix_rank(np.diag(eig)))\n",
    "\n",
    "    \n"
   ]
  },
  {
   "cell_type": "markdown",
   "metadata": {
    "editable": false
   },
   "source": [
    "### 1.3.1 Question 1\n",
    "- Are plots a and b different? Why?\n",
    "- Are plots b and c different? Why?\n",
    "- What are the approximate ranks of each plot?"
   ]
  },
  {
   "cell_type": "markdown",
   "metadata": {},
   "source": [
    "---\n",
    "Your answers here (double click to edit) \n",
    "1. Plots a and b are almost the same, due to the fact that the eigen values don't change much for different class labels of the data. \n",
    "\n",
    "2. Plots b and c are different since c plots the eigenspectrum for the entire class, while b does so for only one class. \n",
    "\n",
    "3. Using linalg(matrix_rank(diagonal elements)) gives the following ranks:\n",
    "a -> 420\n",
    "b -. 520\n",
    "c -> 658\n",
    "\n",
    "---"
   ]
  },
  {
   "cell_type": "markdown",
   "metadata": {
    "editable": false
   },
   "source": [
    "### 1.3.1 Question 2\n",
    "- How many possible images could there be?\n",
    "- What percentage is accessible to us as MNIST data?\n",
    "- If we had acces to all the data, how would the eigen value spectrum of the covariance matrix look?"
   ]
  },
  {
   "cell_type": "markdown",
   "metadata": {},
   "source": [
    "---\n",
    "Your answers here (double click to edit)\n",
    "1. Since the image is binary, each pixel in the cell can have 2 values, 0 or 1. Since each image is a 28*28 pixel matrix, the number of possible images = $2^{784}$\n",
    "\n",
    "2. Amount of training data available = $(6000/2^{784})*100$ because we have 6000 training images, and we have calculated the total number of possible images earlier. Similarily, we have 1000 test images, so there are $(1000/2^{784})*100$ percent of data available for testing.\n",
    "\n",
    "3. All the eigen values would be the same, hence the eigenspectrum would be constant. The covariance matrix would be a diagonal matrix, with all the diagonal elements being positive. It is given that the images are binary, so every pixel will be either have a 0 or 1. Now, we can calculate the mean by adding nce the adding the matrices and dividing by the number of elements Using this, we can calculate the covariance matrix is given by $(x-u)(x-u)^T$. Now this matrix has diagonal elements that are squares on account of the outer product, thus being positive, regardless of the value of the mean. This makes all the eigen values equal to each other, thus making the eigenspectrum constant.\n",
    "\n",
    "\n",
    "\n",
    "\n",
    "---"
   ]
  },
  {
   "cell_type": "markdown",
   "metadata": {
    "editable": false
   },
   "source": [
    "## 1.3.2 Linear Transformation\n",
    "---\n",
    "### 1.3.2 Question 1\n",
    "How does the eigen spectrum change if the original data was multiplied by an orthonormal matrix? Answer analytically and then also validate experimentally."
   ]
  },
  {
   "cell_type": "markdown",
   "metadata": {},
   "source": [
    "---\n",
    "Analytical answer here (double click to edit)\n",
    "Multiplying by an orthonormal matrix is a rotation in terms of the graphical visualisation. The covariance matrix values tare given by $1/N*sum((x-u)(x-u)^T)$. Let A be the orthomormal matrix. When A is multiplied to the original data, we get the covariance matrix to be $1/N*sum((A*x-A*u)(A*x-A*u)^T)$. Taking A out of the expression, we get $1/N*sum(A*(x-u)(x-u)^T*A^{T})$. So now we have $A * sum((x-u)(x-u)^T) *A^{T}$. The new covariance matrix is $A*old covariance matrix*A^{T}$. Hence the new and old covariances matrices are similar (after using orthogonal property), hence the eigen values are the same. \n",
    "\n",
    "---"
   ]
  },
  {
   "cell_type": "code",
   "execution_count": 107,
   "metadata": {},
   "outputs": [
    {
     "name": "stdout",
     "output_type": "stream",
     "text": [
      "(784, 784)\n",
      "(784, 784)\n"
     ]
    },
    {
     "data": {
      "text/plain": [
       "<BarContainer object of 100 artists>"
      ]
     },
     "execution_count": 107,
     "metadata": {},
     "output_type": "execute_result"
    },
    {
     "data": {
      "image/png": "[encoded data removed]",
      "text/plain": [
       "<Figure size 432x288 with 1 Axes>"
      ]
     },
     "metadata": {
      "needs_background": "light"
     },
     "output_type": "display_data"
    }
   ],
   "source": [
    "# Experimental validation here.\n",
    "# Multiply your data (train_data) with an orthonormal matrix and plot the\n",
    "# eigen value specturm of the new covariance matrix.\n",
    "# code goes here\n",
    "\n",
    "from numpy.linalg import qr\n",
    "n = 784\n",
    "H = np.random.randn(n, n)\n",
    "Q, R = qr(H)\n",
    "\n",
    "ortho =(Q.dot(Q.T))\n",
    "print (ortho.shape)\n",
    "result = np.dot(train_data,ortho)\n",
    "#result = np.dot(ortho,train_data.T)\n",
    "dat = np.array(result)\n",
    "print (np.shape(np.cov(np.array(result).T)))\n",
    "eig, vector = linalg.eig(np.cov(np.array(result).T))\n",
    "eig.shape\n",
    "plt.bar(np.arange(100),eig[:100])"
   ]
  },
  {
   "cell_type": "markdown",
   "metadata": {
    "editable": false
   },
   "source": [
    "### 1.3.2 Question 2\n",
    "If  samples  were  multiplied  by  784 × 784  matrix  of rank 1 or 2, (rank deficient matrices), how will the eigen spectrum look like?"
   ]
  },
  {
   "cell_type": "markdown",
   "metadata": {},
   "source": [
    "---\n",
    "Your answer here (double click to edit)\n",
    "When the samples are multiplies by 784*784 matrix of rank 1 or 2, the eigen values vanish because of the fact the resultant matrix also has rank 1 or 2. Since the sum of non zero eigenvalues is the rank, we can can say that the eigen spectrum will 'shorten', i.e, some values will dissappear. \n",
    "---"
   ]
  },
  {
   "cell_type": "markdown",
   "metadata": {
    "editable": false
   },
   "source": [
    "### 1.3.2 Question 3\n",
    "Project the original data into the first and second eigenvectors and plot in 2D"
   ]
  },
  {
   "cell_type": "code",
   "execution_count": 7,
   "metadata": {},
   "outputs": [
    {
     "name": "stderr",
     "output_type": "stream",
     "text": [
      "/home/ajay/anaconda3/lib/python3.7/site-packages/numpy/core/numeric.py:591: ComplexWarning: Casting complex values to real discards the imaginary part\n",
      "  return array(a, dtype, copy=False, order=order, subok=True)\n"
     ]
    },
    {
     "data": {
      "text/plain": [
       "<matplotlib.collections.PathCollection at 0x7f176c44de10>"
      ]
     },
     "execution_count": 7,
     "metadata": {},
     "output_type": "execute_result"
    },
    {
     "data": {
      "image/png": "[encoded data removed]",
      "text/plain": [
       "<Figure size 432x288 with 1 Axes>"
      ]
     },
     "metadata": {
      "needs_background": "light"
     },
     "output_type": "display_data"
    }
   ],
   "source": [
    "# Plotting code here\n",
    "eig, vector = linalg.eig(np.cov(np.array(train_data).T))\n",
    "eigvec1 = vector[:,0].T\n",
    "eigvec2 = vector[:,1].T\n",
    "plt.scatter(np.dot(eigvec1,train_data.T),np.dot(eigvec2,train_data.T))\n",
    "\n"
   ]
  },
  {
   "cell_type": "markdown",
   "metadata": {
    "editable": false
   },
   "source": [
    "## 1.3.3 Probabilistic View\n",
    "---\n",
    "In this section you will classify the test set by fitting multivariate gaussians on the train set, with different choices for decision boundaries. On running, your code should print the accuracy on your test set."
   ]
  },
  {
   "cell_type": "code",
   "execution_count": 147,
   "metadata": {},
   "outputs": [
    {
     "name": "stdout",
     "output_type": "stream",
     "text": [
      "Accuracy 74.2\n"
     ]
    }
   ],
   "source": [
    "# Print accuracy on the test set using MLE\n",
    "import math\n",
    "covariance=np.array([None]*10)\n",
    "covariance_inv=np.array([None]*10)\n",
    "determinant = np.array([None]*10)\n",
    "mean=np.zeros((10,784))\n",
    "D=np.zeros((10,600,784))\n",
    "lab=np.zeros((10,1))\n",
    "\n",
    "\n",
    "#finding determminant and inverse for rank deficient matrix\n",
    "for i in range(10):\n",
    "    D[i,:,:] = train_data[train_labels ==i]\n",
    "    mean[i]=np.mean(D[i],axis=0)\n",
    "    covariance[i]=np.cov(data[i].T)\n",
    "    eig1,eig2 = linalg.eig(covariance[i])\n",
    "    #find zero values\\\n",
    "    \n",
    "    d = np.diag(eig1)\n",
    "    eig2 = np.real(eig2[:,0:linalg.matrix_rank(d)])\n",
    "    determinant[i] = np.real(np.sum(np.log(eig1[:linalg.matrix_rank(d)])))\n",
    "    covariance_inv[i]= eig2.dot(np.diag(1/np.real(eig1[0:linalg.matrix_rank(d)]))).dot(eig2.T)\n",
    "\n",
    "    \n",
    "count = 0\n",
    "for i in range(1000):\n",
    "    minim = np.inf\n",
    "    num = 0\n",
    "    for j in range(10):\n",
    "        p = ((test_data[i]-mean[j]).dot(covariance_inv[j])).dot(test_data[i].T-mean[j].T)+determinant[j]\n",
    "        minim,num = [p,j] if p<minim else [minim, num]\n",
    "    if num == test_labels[i]:\n",
    "        count=count+1\n",
    "\n",
    "print('Accuracy', count/10)\n",
    "\n",
    "    \n",
    "    \n",
    "    \n",
    "\n",
    "\n",
    "\n",
    "\n",
    "        \n",
    "   \n",
    "    \n",
    "#cov = np.cov(pdf)\n",
    "#U,D,Vh = linalg.svd(cov)\n",
    "#print (D)\n",
    "\n",
    "\n",
    "    \n",
    "\n"
   ]
  },
  {
   "cell_type": "code",
   "execution_count": 148,
   "metadata": {},
   "outputs": [
    {
     "name": "stdout",
     "output_type": "stream",
     "text": [
      "Accuracy 74.2\n"
     ]
    }
   ],
   "source": [
    "# Print accuracy on the test set using MAP\n",
    "# (assume a reasonable prior and mention it in the comments)\n",
    "#assume prior distribution is the same, because we have same number of images for each label\n",
    "\n",
    "import math\n",
    "covariance=np.array([None]*10)\n",
    "covariance_inv=np.array([None]*10)\n",
    "determinant = np.array([None]*10)\n",
    "mean=np.zeros((10,784))\n",
    "D=np.zeros((10,600,784))\n",
    "lab=np.zeros((10,1))\n",
    "\n",
    "\n",
    "#finding determminant and inverse for rank deficient matrix\n",
    "for i in range(10):\n",
    "    D[i,:,:] = train_data[train_labels ==i]\n",
    "    mean[i]=np.mean(D[i],axis=0)\n",
    "    covariance[i]=np.cov(data[i].T)\n",
    "    eig1,eig2 = linalg.eig(covariance[i])\n",
    "    #find zero values\\\n",
    "    \n",
    "    d = np.diag(eig1)\n",
    "    eig2 = np.real(eig2[:,0:linalg.matrix_rank(d)])\n",
    "    determinant[i] = np.real(np.sum(np.log(eig1[:linalg.matrix_rank(d)])))\n",
    "    covariance_inv[i]= eig2.dot(np.diag(1/np.real(eig1[0:linalg.matrix_rank(d)]))).dot(eig2.T)\n",
    "\n",
    "    \n",
    "count = 0\n",
    "for i in range(1000):\n",
    "    minim = np.inf\n",
    "    num = 0\n",
    "    for j in range(10):\n",
    "        p = ((test_data[i]-mean[j]).dot(covariance_inv[j])).dot(test_data[i].T-mean[j].T)+determinant[j]\n",
    "        minim,num = [p,j] if p<minim else [minim, num]\n",
    "    if num == test_labels[i]:\n",
    "        count=count+1\n",
    "\n",
    "print('Accuracy', count/10)\n"
   ]
  },
  {
   "cell_type": "code",
   "execution_count": null,
   "metadata": {},
   "outputs": [],
   "source": [
    "# Print accuracy using Bayesian pairwise majority voting method"
   ]
  },
  {
   "cell_type": "code",
   "execution_count": 111,
   "metadata": {},
   "outputs": [
    {
     "name": "stdout",
     "output_type": "stream",
     "text": [
      "Accuracy:\n",
      "77.0\n"
     ]
    }
   ],
   "source": [
    "# Print accuracy using Simple Perpendicular Bisector majority voting method\n",
    "D=np.zeros((10,600,784))\n",
    "lab=np.zeros((10,1))\n",
    "for i in range(10):\n",
    "    D[i,:,:] = train_data[train_labels ==i]\n",
    "mean=np.zeros((10,784))\n",
    "for i in range(10):\n",
    "    mean[i]=np.mean(D[i],axis=0)\n",
    "#print (sum(means))\n",
    "def L2(train_data, test_data):\n",
    "    #vectorized implementation\n",
    "    dist = np.sqrt(np.sum(a**2,axis=1)[:,np.newaxis] + np.sum(b**2,axis=1) - 2*a.dot(test_data.T))\n",
    "    return dist\n",
    "    \n",
    "    \n",
    "r=0\n",
    "sum1 = 0\n",
    "for i in range(1000):\n",
    "    r = r+1\n",
    "  \n",
    "    x = 0\n",
    "    a = 0\n",
    "    b = 1\n",
    "    label = 10\n",
    "    dist = [0,0]\n",
    "    \n",
    "    while (x==0):\n",
    "        \n",
    "        dist = [linalg.norm(test_data[i]-mean[a]),linalg.norm(test_data[i]-mean[b])]\n",
    "        #print (dist)\n",
    "        if (b==9):\n",
    "            if (dist[0]>dist[1]):\n",
    "                label = b\n",
    "            else:\n",
    "                label = a \n",
    "            x = 1\n",
    "        else:\n",
    "            if (dist[1]>dist[0]):\n",
    "                b = b+1\n",
    "            else:\n",
    "                a = b\n",
    "                b = b+1\n",
    "    if label == test_labels[i]:\n",
    "        sum1 = sum1+1\n",
    "    #print (label,int(test_labels[i]))\n",
    "#print (sum1)\n",
    "acc = sum1/10\n",
    "print (\"Accuracy:\")\n",
    "print (acc)        \n",
    "        \n",
    "    \n",
    "                \n",
    "                \n",
    "            \n",
    "        "
   ]
  },
  {
   "cell_type": "markdown",
   "metadata": {
    "editable": false
   },
   "source": [
    "### 1.3.3 Question 4\n",
    "Compare performances and salient observations"
   ]
  },
  {
   "cell_type": "markdown",
   "metadata": {},
   "source": [
    "---\n",
    "Your analysis here (double click to edit)\n",
    "MAP and MLE have the same accuracy since we have assumed the prior distribution to be the same in MAP. We can come to this conclusion because of the fact that we have the same number of images for each class, making the probability of each class equally likely.\n",
    "\n",
    "---"
   ]
  },
  {
   "cell_type": "markdown",
   "metadata": {
    "editable": false
   },
   "source": [
    "## 1.3.4 Nearest Neighbour based Tasks and Design\n",
    "---\n",
    "### 1.3.4 Question 1 : NN Classification with various K\n",
    "Implement a KNN classifier and print accuracies on the test set with K=1,3,7"
   ]
  },
  {
   "cell_type": "code",
   "execution_count": 110,
   "metadata": {},
   "outputs": [
    {
     "name": "stdout",
     "output_type": "stream",
     "text": [
      "Accuracies for k =1,3,7 in order:\n",
      "0.907\n",
      "0.916\n",
      "0.916\n"
     ]
    }
   ],
   "source": [
    "#Your code here\n",
    "# Print accuracies with K = 1, 3, 7\n",
    "def mode(a):\n",
    "    (_, idx, counts) = np.unique(a, return_index=True, return_counts=True)\n",
    "    index = idx[np.argmax(counts)]\n",
    "    mode = a[index]\n",
    "    return mode\n",
    "    \n",
    "def dist(train_data, test_data):\n",
    "    dist = np.sqrt(np.sum(train_data**2,axis=1)[:,np.newaxis] + np.sum(test_data**2,axis=1) - 2*train_data.dot(test_data.T))\n",
    "    return dist\n",
    "def neighbour_gen(indices,train_labels,k):\n",
    "    pred = np.zeros((k,1000))\n",
    "    for i in range(1000):\n",
    "        pred[:,i] =  train_labels[indices[:,i]][:k]\n",
    "        \n",
    "    return pred \n",
    "        \n",
    "def accuracy(pred,train_labels,test_labels):\n",
    "    #find the maximum element in the prediction list\n",
    "    max_element = np.apply_along_axis(mode,0,pred)\n",
    "    #find element with same test label\n",
    "    element = (max_element == test_labels)\n",
    "    summation = np.sum(element)\n",
    "    acc = summation/1000\n",
    "    return acc\n",
    "    \n",
    "    \n",
    "    \n",
    "\n",
    "def knn(train_data,train_labels,test_data,test_labels,k):\n",
    "    \n",
    "    dist1 = dist(train_data,test_data)\n",
    "    indices = np.argsort(dist1,axis=0)\n",
    "    #print (indices)\n",
    "    pred = np.zeros((k,1000))\n",
    "    acc = accuracy(neighbour_gen(indices,train_labels,k), train_labels,test_labels)\n",
    "   \n",
    "    \n",
    "    return acc\n",
    "print (\"Accuracies for k =1,3,7 in order:\") \n",
    "print (knn(train_data,train_labels,test_data,test_labels,1))\n",
    "print (knn(train_data,train_labels,test_data,test_labels,3))\n",
    "print (knn(train_data,train_labels,test_data,test_labels,7))\n",
    "    \n"
   ]
  },
  {
   "cell_type": "markdown",
   "metadata": {
    "editable": false
   },
   "source": [
    "### 1.3.4 Question 1 continued\n",
    "- Why / why not are the accuracies the same?\n",
    "- How do we identify the best K? Suggest a computational procedure with a logical explanation."
   ]
  },
  {
   "cell_type": "markdown",
   "metadata": {},
   "source": [
    "---\n",
    "Your analysis here (double click to edit)\n",
    "1. The accuracies are not the same since the decision boundary becomes smoother as we increase the value of k. This is because there are more neighbours to compare to in order to assign the correct class to the test data.\n",
    "\n",
    "2. As we increase k to very large values, the model tends to underfit, i.e, it becomes simpler. But if k is too low, the model will overfit, and we will not get accurate results. In order to prevent this, we need to find a peak finding algorithm which will find the most optimal k. This can be accomplished by using binary search on the validation data vs k-value graph, which will allow for us to most optimally find the k value. Usually though, using k = sqrt(n/2) is a good place to  start from.\n",
    "---"
   ]
  },
  {
   "cell_type": "markdown",
   "metadata": {
    "editable": false
   },
   "source": [
    "### 1.3.4 Question 2 :  Reverse NN based outlier detection\n",
    "A sample can be thought of as an outlier is it is NOT in the nearest neighbour set of anybody else. Expand this idea into an algorithm."
   ]
  },
  {
   "cell_type": "code",
   "execution_count": null,
   "metadata": {
    "editable": false
   },
   "outputs": [],
   "source": [
    "# This cell reads mixed data containing both MNIST digits and English characters.\n",
    "# The labels for this mixed data are random and are hence ignored.\n",
    "mixed_data, _ = read_data(\"outliers.csv\")\n",
    "print(mixed_data.shape)"
   ]
  },
  {
   "cell_type": "markdown",
   "metadata": {
    "editable": false
   },
   "source": [
    "### 1.3.4 Question 3 : NN for regression\n",
    "Assume that each classID in the train set corresponds to a neatness score as:\n",
    "$$ neatness = \\frac{classID}{10} $$\n",
    "\n",
    "---\n",
    "Assume we had to predict the neatness score for each test sample using NN based techiniques on the train set. Describe the algorithm."
   ]
  },
  {
   "cell_type": "markdown",
   "metadata": {},
   "source": [
    "---\n",
    "Your algorithm here (double click to edit)\n",
    "We predict points by taking mean of labels of the K nearest neighbour. This is in contrast to the weighted function that can also be used to solve the given archetype of regression.\n",
    "---"
   ]
  },
  {
   "cell_type": "markdown",
   "metadata": {
    "editable": false
   },
   "source": [
    "### 1.3.4 Question 3 continued\n",
    "Validate your algorithm on the test set. This code should print mean absolute error on the test set, using the train set for NN based regression."
   ]
  },
  {
   "cell_type": "code",
   "execution_count": 109,
   "metadata": {},
   "outputs": [
    {
     "name": "stdout",
     "output_type": "stream",
     "text": [
      "Errors for k=1,,3,7 in order:\n",
      "0.0354\n",
      "0.03773333333333333\n",
      "0.04377142857142857\n"
     ]
    }
   ],
   "source": [
    "# Your code here\n",
    "#Your code here\n",
    "# Print error with K 1, 3, 7\n",
    "def mode(a):\n",
    "    (_, idx, counts) = np.unique(a, return_index=True, return_counts=True)\n",
    "    index = idx[np.argmax(counts)]\n",
    "    mode = a[index]\n",
    "    return mode\n",
    "    \n",
    "def dist(train_data, test_data):\n",
    "    #same as outer product, python broadcast for sum\n",
    "    #vectorized form of kNN, for speed purposes\n",
    "    dist = np.sqrt(np.sum(train_data**2,axis=1)[:,np.newaxis] + np.sum(test_data**2,axis=1) - 2*train_data.dot(test_data.T))\n",
    "    return dist\n",
    "def neighbour_gen(indices,train_labels,k):\n",
    "    pred = np.zeros((k,1000))\n",
    "    for i in range(1000):\n",
    "        pred[:,i] =  train_labels[indices[:,i]][:k]\n",
    "        \n",
    "    return pred \n",
    "        \n",
    "def error(pred,train_labels,test_labels):\n",
    "    #find the maximum element in the prediction list\n",
    "    mean_element = np.mean(pred,axis=0)\n",
    "    #find element with same test label\n",
    "    element = (mean_element - test_labels)\n",
    "    abso = np.abs(element)\n",
    "    summation = np.mean(abso)\n",
    "    err = summation*100/1000\n",
    "    return err\n",
    "    \n",
    "    \n",
    "    \n",
    "\n",
    "def regress(train_data,train_labels,test_data,test_labels,k):\n",
    "    \n",
    "    dist1 = dist(train_data,test_data)\n",
    "    indices = np.argsort(dist1,axis=0)\n",
    "    #print (indices)\n",
    "    pred = np.zeros((k,1000))\n",
    "    err1 = error(neighbour_gen(indices,train_labels,k), train_labels,test_labels)\n",
    "   \n",
    "    \n",
    "    return err1\n",
    "print (\"Errors for k=1,,3,7 in order:\")\n",
    "print (regress(train_data,train_labels,test_data,test_labels,1))\n",
    "print (regress(train_data,train_labels,test_data,test_labels,3))\n",
    "print (regress(train_data,train_labels,test_data,test_labels,7))"
   ]
  },
  {
   "cell_type": "markdown",
   "metadata": {
    "editable": false
   },
   "source": [
    "---\n",
    "# FOLLOW THE SUBMISSION INSTRUCTIONS\n",
    "---"
   ]
  }
 ],
 "metadata": {
  "kernelspec": {
   "display_name": "Python 3",
   "language": "python",
   "name": "python3"
  },
  "language_info": {
   "codemirror_mode": {
    "name": "ipython",
    "version": 3
   },
   "file_extension": ".py",
   "mimetype": "text/x-python",
   "name": "python",
   "nbconvert_exporter": "python",
   "pygments_lexer": "ipython3",
   "version": "3.7.3"
  }
 },
 "nbformat": 4,
 "nbformat_minor": 2
}
